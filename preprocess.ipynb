{
 "cells": [
  {
   "cell_type": "markdown",
   "metadata": {},
   "source": [
    "## read data from Excel file"
   ]
  },
  {
   "cell_type": "code",
   "execution_count": 110,
   "metadata": {},
   "outputs": [
    {
     "name": "stderr",
     "output_type": "stream",
     "text": [
      "C:\\Users\\RABIN-IT\\AppData\\Local\\Temp\\ipykernel_14980\\2322229779.py:9: ParserWarning: Falling back to the 'python' engine because the 'c' engine does not support regex separators (separators > 1 char and different from '\\s+' are interpreted as regex); you can avoid this warning by specifying engine='python'.\n",
      "  data_train = pd.read_csv(file_path_train ,  sep='; , .')\n"
     ]
    },
    {
     "name": "stdout",
     "output_type": "stream",
     "text": [
      "                            comment\\tlabel\\tlabel_id\n",
      "0  0\\tواقعا حیف وقت که بنویسم سرویس دهیتون شده اف...\n",
      "1  1\\tقرار بود ۱ ساعته برسه ولی نیم ساعت زودتر از...\n",
      "2  2\\tقیمت این مدل اصلا با کیفیتش سازگاری نداره، ...\n",
      "3  3\\tعالللی بود همه چه درست و به اندازه و کیفیت ...\n",
      "4         4\\tشیرینی وانیلی فقط یک مدل بود.\\tHAPPY\\t0\n"
     ]
    },
    {
     "name": "stderr",
     "output_type": "stream",
     "text": [
      "C:\\Users\\RABIN-IT\\AppData\\Local\\Temp\\ipykernel_14980\\2322229779.py:10: ParserWarning: Falling back to the 'python' engine because the 'c' engine does not support regex separators (separators > 1 char and different from '\\s+' are interpreted as regex); you can avoid this warning by specifying engine='python'.\n",
      "  data_tst = pd.read_csv(file_path_tst, sep='; , .')\n"
     ]
    }
   ],
   "source": [
    "import pandas as pd\n",
    "\n",
    "# Specify the path to your Excel file\n",
    "file_path_train = 'snappfood-data/train.csv'\n",
    "file_path_tst = 'snappfood-data/test.csv'\n",
    "\n",
    "\n",
    "# Read the dataset from the Excel file\n",
    "data_train = pd.read_csv(file_path_train ,  sep='; , .')\n",
    "data_tst = pd.read_csv(file_path_tst, sep='; , .')\n",
    "\n",
    "# Display the first few rows of the dataframe\n",
    "print(data_train.head())"
   ]
  },
  {
   "cell_type": "markdown",
   "metadata": {},
   "source": [
    "## remove empty and duplicate input"
   ]
  },
  {
   "cell_type": "code",
   "execution_count": 111,
   "metadata": {},
   "outputs": [],
   "source": [
    "df_remove_train = data_train.dropna().drop_duplicates()\n",
    "df_remove_tst = data_tst.dropna().drop_duplicates()\n"
   ]
  },
  {
   "cell_type": "code",
   "execution_count": 112,
   "metadata": {},
   "outputs": [
    {
     "data": {
      "text/plain": [
       "56700"
      ]
     },
     "execution_count": 112,
     "metadata": {},
     "output_type": "execute_result"
    }
   ],
   "source": [
    "len(df_remove_train)"
   ]
  },
  {
   "cell_type": "markdown",
   "metadata": {},
   "source": [
    "## create input and output matrix "
   ]
  },
  {
   "cell_type": "code",
   "execution_count": 113,
   "metadata": {},
   "outputs": [],
   "source": [
    "input_train = [[] for i in range(len(df_remove_train))]\n",
    "               \n",
    "output_train = [0 for i in range(len(df_remove_train))]\n",
    "\n",
    "for i in range(0, len(df_remove_train)):\n",
    "    spilt = df_remove_train[i:i+1].to_string().split('\\\\')\n",
    "    input_train[i] = spilt[3]\n",
    "    output_train[i] = spilt[5][1]\n",
    "    \n",
    "    \n",
    "input_tst = [[] for i in range(len(df_remove_tst))]\n",
    "               \n",
    "output_tst = [0 for i in range(len(df_remove_tst))]\n",
    "\n",
    "for j in range(0, len(df_remove_tst)):\n",
    "    spilt_tst = df_remove_tst[j:j+1].to_string().split('\\\\')\n",
    "    input_tst[j] = spilt_tst[3]\n",
    "    output_tst[j] = spilt_tst[5][1]\n",
    "    "
   ]
  },
  {
   "cell_type": "markdown",
   "metadata": {},
   "source": [
    "## check the values of input and output"
   ]
  },
  {
   "cell_type": "code",
   "execution_count": 114,
   "metadata": {},
   "outputs": [],
   "source": [
    "# Create new lists that filter out the unwanted elements\n",
    "filtered_input_train = [input_train[i] for i in range(len(input_train)) if input_train[i] != '' and output_train[i] != 'S']\n",
    "filtered_output_train = [output_train[i] for i in range(len(output_train)) if input_train[i] != '' and output_train[i] != 'S']\n",
    "\n",
    "# Update the original lists\n",
    "input_train = filtered_input_train\n",
    "output_train = filtered_output_train\n",
    "\n",
    "\n",
    "# Test the input and output\n",
    "filtered_input_tst = [input_tst[i] for i in range(len(input_tst)) if input_tst[i] != '' and output_tst[i] != 'S']\n",
    "filtered_output_tst = [output_tst[i] for i in range(len(input_tst)) if input_tst[i] != '' and output_tst[i] != 'S']\n",
    "\n",
    "# Update the original lists\n",
    "input_tst = filtered_input_tst\n",
    "output_tst = filtered_output_tst\n",
    "        \n",
    "\n",
    "\n",
    "    "
   ]
  },
  {
   "cell_type": "code",
   "execution_count": 115,
   "metadata": {},
   "outputs": [],
   "source": [
    "output_train = [int(x) for x in output_train if x.isdigit()]\n",
    "output_tst = [int(x) for x in output_tst if x.isdigit()]\n",
    "\n",
    "\n"
   ]
  },
  {
   "cell_type": "code",
   "execution_count": 116,
   "metadata": {},
   "outputs": [
    {
     "name": "stdout",
     "output_type": "stream",
     "text": [
      "[1, 0, 1, 0, 0, 1, 0, 1, 0, 1]\n"
     ]
    }
   ],
   "source": [
    "print(output_train[0:10])"
   ]
  },
  {
   "cell_type": "markdown",
   "metadata": {},
   "source": [
    "## tokenize input_train and tst"
   ]
  },
  {
   "cell_type": "code",
   "execution_count": 117,
   "metadata": {},
   "outputs": [],
   "source": [
    "from transformers import BertTokenizer\n",
    "tokenizer_train = BertTokenizer.from_pretrained('bert-base-multilingual-cased')\n",
    "# Tokenize with padding and truncation\n",
    "encoded_comments_trian = tokenizer_train(\n",
    "    input_train,\n",
    "    padding=True,           # Pads to the longest sequence in the batch\n",
    "    truncation=True,        # Truncates any input longer than max_length\n",
    "    max_length=64,         # Adjust max_length based on your requirements\n",
    "    return_tensors='pt'    # Return PyTorch tensors (use 'tf' for TensorFlow)\n",
    ")\n",
    "\n"
   ]
  },
  {
   "cell_type": "code",
   "execution_count": 118,
   "metadata": {},
   "outputs": [],
   "source": [
    "tokenizer_tst = BertTokenizer.from_pretrained('bert-base-multilingual-cased')\n",
    "# Tokenize with padding and truncation\n",
    "encoded_comments_tst = tokenizer_tst(\n",
    "    input_tst,\n",
    "    padding=True,           # Pads to the longest sequence in the batch\n",
    "    truncation=True,        # Truncates any input longer than max_length\n",
    "    max_length=64,         # Adjust max_length based on your requirements\n",
    "    return_tensors='pt'    # Return PyTorch tensors (use 'tf' for TensorFlow)\n",
    ")\n",
    "\n"
   ]
  },
  {
   "cell_type": "code",
   "execution_count": 119,
   "metadata": {},
   "outputs": [],
   "source": [
    "output_train.append(0)"
   ]
  },
  {
   "cell_type": "markdown",
   "metadata": {},
   "source": [
    "# Data Loader"
   ]
  },
  {
   "cell_type": "code",
   "execution_count": 120,
   "metadata": {},
   "outputs": [
    {
     "name": "stderr",
     "output_type": "stream",
     "text": [
      "C:\\Users\\RABIN-IT\\AppData\\Local\\Temp\\ipykernel_14980\\313625587.py:13: UserWarning: To copy construct from a tensor, it is recommended to use sourceTensor.clone().detach() or sourceTensor.clone().detach().requires_grad_(True), rather than torch.tensor(sourceTensor).\n",
      "  input_ids_tensor = torch.tensor(input_ids_train)\n",
      "C:\\Users\\RABIN-IT\\AppData\\Local\\Temp\\ipykernel_14980\\313625587.py:14: UserWarning: To copy construct from a tensor, it is recommended to use sourceTensor.clone().detach() or sourceTensor.clone().detach().requires_grad_(True), rather than torch.tensor(sourceTensor).\n",
      "  attention_mask_tensor = torch.tensor(attention_mask_train)\n"
     ]
    }
   ],
   "source": [
    "import torch\n",
    "from torch.utils.data import TensorDataset, DataLoader\n",
    "\n",
    "\n",
    "\n",
    "# and labels are the corresponding labels for each input.\n",
    "# Assume input_ids and attention_mask are the tokenized input tensors, \n",
    "input_ids_train = encoded_comments_trian['input_ids']  # Example tokenized input\n",
    "attention_mask_train = encoded_comments_trian['attention_mask']  # Attention masks\n",
    " \n",
    "\n",
    "# Convert lists to PyTorch tensors\n",
    "input_ids_tensor = torch.tensor(input_ids_train)\n",
    "attention_mask_tensor = torch.tensor(attention_mask_train)\n",
    "labels_tensor = torch.tensor(output_train)\n",
    "\n",
    "# Create a TensorDataset\n",
    "dataset_train = TensorDataset(input_ids_tensor, attention_mask_tensor, labels_tensor)\n",
    "\n",
    "# Create DataLoader\n",
    "dataloader_train = DataLoader(dataset_train, batch_size=2, shuffle=True)\n",
    "\n",
    "\n"
   ]
  },
  {
   "cell_type": "code",
   "execution_count": 121,
   "metadata": {},
   "outputs": [
    {
     "name": "stderr",
     "output_type": "stream",
     "text": [
      "C:\\Users\\RABIN-IT\\AppData\\Local\\Temp\\ipykernel_14980\\2776536946.py:8: UserWarning: To copy construct from a tensor, it is recommended to use sourceTensor.clone().detach() or sourceTensor.clone().detach().requires_grad_(True), rather than torch.tensor(sourceTensor).\n",
      "  input_ids_tensor = torch.tensor(input_ids_tst)\n",
      "C:\\Users\\RABIN-IT\\AppData\\Local\\Temp\\ipykernel_14980\\2776536946.py:9: UserWarning: To copy construct from a tensor, it is recommended to use sourceTensor.clone().detach() or sourceTensor.clone().detach().requires_grad_(True), rather than torch.tensor(sourceTensor).\n",
      "  attention_mask_tensor = torch.tensor(attention_mask_tst)\n"
     ]
    }
   ],
   "source": [
    "# and labels are the corresponding labels for each input.\n",
    "# Assume input_ids and attention_mask are the tokenized input tensors, \n",
    "input_ids_tst = encoded_comments_tst['input_ids']  # Example tokenized input\n",
    "attention_mask_tst = encoded_comments_tst['attention_mask']  # Attention masks\n",
    " \n",
    "\n",
    "# Convert lists to PyTorch tensors\n",
    "input_ids_tensor = torch.tensor(input_ids_tst)\n",
    "attention_mask_tensor = torch.tensor(attention_mask_tst)\n",
    "labels_tensor = torch.tensor(output_tst)\n",
    "\n",
    "# Create a TensorDataset\n",
    "dataset_tst = TensorDataset(input_ids_tensor, attention_mask_tensor, labels_tensor)\n",
    "\n",
    "# Create DataLoader\n",
    "dataloader_tst = DataLoader(dataset_tst, batch_size=2, shuffle=True)\n",
    "\n",
    "\n"
   ]
  }
 ],
 "metadata": {
  "kernelspec": {
   "display_name": "Python 3",
   "language": "python",
   "name": "python3"
  },
  "language_info": {
   "codemirror_mode": {
    "name": "ipython",
    "version": 3
   },
   "file_extension": ".py",
   "mimetype": "text/x-python",
   "name": "python",
   "nbconvert_exporter": "python",
   "pygments_lexer": "ipython3",
   "version": "3.10.9"
  }
 },
 "nbformat": 4,
 "nbformat_minor": 2
}
