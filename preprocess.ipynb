{
 "cells": [
  {
   "cell_type": "markdown",
   "metadata": {},
   "source": [
    "## read data from Excel file"
   ]
  },
  {
   "cell_type": "code",
   "execution_count": 11,
   "metadata": {},
   "outputs": [
    {
     "name": "stderr",
     "output_type": "stream",
     "text": [
      "C:\\Users\\RABIN-IT\\AppData\\Local\\Temp\\ipykernel_7888\\2322229779.py:9: ParserWarning: Falling back to the 'python' engine because the 'c' engine does not support regex separators (separators > 1 char and different from '\\s+' are interpreted as regex); you can avoid this warning by specifying engine='python'.\n",
      "  data_train = pd.read_csv(file_path_train ,  sep='; , .')\n"
     ]
    },
    {
     "name": "stdout",
     "output_type": "stream",
     "text": [
      "                            comment\\tlabel\\tlabel_id\n",
      "0  0\\tواقعا حیف وقت که بنویسم سرویس دهیتون شده اف...\n",
      "1  1\\tقرار بود ۱ ساعته برسه ولی نیم ساعت زودتر از...\n",
      "2  2\\tقیمت این مدل اصلا با کیفیتش سازگاری نداره، ...\n",
      "3  3\\tعالللی بود همه چه درست و به اندازه و کیفیت ...\n",
      "4         4\\tشیرینی وانیلی فقط یک مدل بود.\\tHAPPY\\t0\n"
     ]
    },
    {
     "name": "stderr",
     "output_type": "stream",
     "text": [
      "C:\\Users\\RABIN-IT\\AppData\\Local\\Temp\\ipykernel_7888\\2322229779.py:10: ParserWarning: Falling back to the 'python' engine because the 'c' engine does not support regex separators (separators > 1 char and different from '\\s+' are interpreted as regex); you can avoid this warning by specifying engine='python'.\n",
      "  data_tst = pd.read_csv(file_path_tst, sep='; , .')\n"
     ]
    }
   ],
   "source": [
    "import pandas as pd\n",
    "\n",
    "# Specify the path to your Excel file\n",
    "file_path_train = 'snappfood-data/train.csv'\n",
    "file_path_tst = 'snappfood-data/test.csv'\n",
    "\n",
    "\n",
    "# Read the dataset from the Excel file\n",
    "data_train = pd.read_csv(file_path_train ,  sep='; , .')\n",
    "data_tst = pd.read_csv(file_path_tst, sep='; , .')\n",
    "\n",
    "# Display the first few rows of the dataframe\n",
    "print(data_train.head())"
   ]
  },
  {
   "cell_type": "markdown",
   "metadata": {},
   "source": [
    "## remove empty and duplicate input"
   ]
  },
  {
   "cell_type": "code",
   "execution_count": 88,
   "metadata": {},
   "outputs": [],
   "source": [
    "df_remove_train = data_train.dropna().drop_duplicates()\n",
    "df_remove_tst = data_tst.dropna().drop_duplicates()\n"
   ]
  },
  {
   "cell_type": "markdown",
   "metadata": {},
   "source": [
    "## Label encryption"
   ]
  },
  {
   "cell_type": "code",
   "execution_count": 115,
   "metadata": {},
   "outputs": [
    {
     "name": "stdout",
     "output_type": "stream",
     "text": [
      "                            comment\\tlabel\\tlabel_id\n",
      "1  1\\tقرار بود ۱ ساعته برسه ولی نیم ساعت زودتر از...\n",
      "2  2\\tقیمت این مدل اصلا با کیفیتش سازگاری نداره، ...\n",
      "3  3\\tعالللی بود همه چه درست و به اندازه و کیفیت ...\n",
      "4         4\\tشیرینی وانیلی فقط یک مدل بود.\\tHAPPY\\t0\n",
      "5  5\\tبدترین پیتزایی که تا به حال خورده بودم\\tSAD\\t1\n",
      "6               6\\tاز همه لحاظ عالی ممنونم\\tHAPPY\\t0\n",
      "7  7\\tکیفیت غذا متوسط رو به پایین بود انگار داخل ...\n",
      "8  8\\tهمه اقلام تازه و به روز وخیلیییییی سریع بدس...\n",
      "9  9\\tهمه چی خوب ولی هات داگ دورش کلا سوخته بود و...\n"
     ]
    }
   ],
   "source": [
    "from sklearn.preprocessing import LabelEncoder\n",
    "for i in range(0, 1 ):\n",
    " print(df_remove_train[i])\n",
    " print(type(df_remove_train[i]))\n",
    " print(df_remove_train[i].shape)\n"
   ]
  }
 ],
 "metadata": {
  "kernelspec": {
   "display_name": "Python 3",
   "language": "python",
   "name": "python3"
  },
  "language_info": {
   "codemirror_mode": {
    "name": "ipython",
    "version": 3
   },
   "file_extension": ".py",
   "mimetype": "text/x-python",
   "name": "python",
   "nbconvert_exporter": "python",
   "pygments_lexer": "ipython3",
   "version": "3.10.9"
  }
 },
 "nbformat": 4,
 "nbformat_minor": 2
}
